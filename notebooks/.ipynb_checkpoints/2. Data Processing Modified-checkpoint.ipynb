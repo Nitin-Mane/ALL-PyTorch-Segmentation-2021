{
 "cells": [
  {
   "cell_type": "markdown",
   "id": "c563ac73",
   "metadata": {},
   "source": [
    "# Peter Moss Acute Myeloid & Lymphoblastic Leukemia AI Research Project\n",
    "\n",
    "## Acute Lymphoblastic Leukemia Pytorch Segmentation 2021\n",
    "\n",
    "### Introduction\n",
    "\n",
    "We can divide or partition the image into various parts called segments. It’s not a great idea to process the entire image at the same time as there will be regions in the image which do not contain any information. By dividing the image into segments, we can make use of the important segments for processing the image. That, in a nutshell, is how image segmentation works.\n",
    "\n",
    "Object detection builds a bounding box corresponding to each class in the image. But it tells us nothing about the shape of the object. We only get the set of bounding box coordinates. We want to get more information – this is too vague for our purposes.\n",
    "\n",
    "Image segmentation creates a pixel-wise mask for each object in the image. This technique gives us a far more granular understanding of the object(s) in the image.\n",
    "\n",
    "#### Morphological features of ALL blast cells\n",
    "\n",
    "The classification of the lymphocyte in microscope images is quite complex since even an expert operator can have dubs in classifying some lymphocyte cells. Actually, the morphological distinctive aspects of ALL blast and normal lymphocytes are very smooth.\n",
    "\n",
    "Of course, nowadays more accurate diagnostic tools area available (e.g., the immunologic classification) but they require a blood sample and, since they are not image-based, their usage in telemedicine applications is quite limited. According to the most common visual morphological analysis for the ALL disease (the FAB method, see related publications), the features that trained lab technicians consider during the image observation are the following:\n",
    "\n",
    " - L1: ALL blasts are small and homogeneous. The nuclei are round and regular with little clefting and inconspicuous nucleoli. Cytoplasm is scanty and usually without vacuoles.\n",
    " - L2: ALL blasts are large and heterogeneous. The nuclei are irregular and often clefted. One or more, usually large nucleoli are present. The volume of cytoplasm is variable, but often abundant and may contain vacuoles.\n",
    " - L3: ALL blasts are moderate-large in size and homogeneous. The nuclei are regular and round-oval in shape. One or more prominent nucleoli are present. The volume of cytoplasm is moderate and contains prominent vacuoles.\n",
    "\n",
    "Next figure shows the great variability in shape and pattern of the blast cells according to the FAB classification for the ALL disease. The main goal is to detect without differentiation the presence of all three types of blasts in the images.\n"
   ]
  },
  {
   "cell_type": "code",
   "execution_count": 7,
   "id": "b6f3597d",
   "metadata": {},
   "outputs": [],
   "source": [
    "import matplotlib.pylab as plt\n",
    "from PIL import Image, ImageDraw\n",
    "import numpy as np\n",
    "import os\n",
    "%matplotlib inline"
   ]
  },
  {
   "cell_type": "code",
   "execution_count": 8,
   "id": "33f1e8f6",
   "metadata": {},
   "outputs": [],
   "source": [
    "# data is stored here\n",
    "images = \"../model/data/ALL-IDB/ALL_IDB1/im/\"\n",
    "image_label = \"../model/data/ALL-IDB/ALL_IDB1/xyc/\"\n",
    "masks_image = \"../model/data/ALL-IDB/ALL_IDB1_masks/\""
   ]
  },
  {
   "cell_type": "code",
   "execution_count": 11,
   "id": "fdd79d47",
   "metadata": {},
   "outputs": [
    {
     "data": {
      "text/plain": [
       "37"
      ]
     },
     "execution_count": 11,
     "metadata": {},
     "output_type": "execute_result"
    }
   ],
   "source": [
    "#len(images)\n",
    "len(masks)"
   ]
  },
  {
   "cell_type": "code",
   "execution_count": null,
   "id": "bab4434a",
   "metadata": {},
   "outputs": [],
   "source": []
  }
 ],
 "metadata": {
  "kernelspec": {
   "display_name": "Python 3",
   "language": "python",
   "name": "python3"
  },
  "language_info": {
   "codemirror_mode": {
    "name": "ipython",
    "version": 3
   },
   "file_extension": ".py",
   "mimetype": "text/x-python",
   "name": "python",
   "nbconvert_exporter": "python",
   "pygments_lexer": "ipython3",
   "version": "3.7.10"
  }
 },
 "nbformat": 4,
 "nbformat_minor": 5
}
