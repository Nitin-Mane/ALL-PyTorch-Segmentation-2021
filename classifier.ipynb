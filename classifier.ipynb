{
 "metadata": {
  "language_info": {
   "codemirror_mode": {
    "name": "ipython",
    "version": 3
   },
   "file_extension": ".py",
   "mimetype": "text/x-python",
   "name": "python",
   "nbconvert_exporter": "python",
   "pygments_lexer": "ipython3",
   "version": 3
  },
  "orig_nbformat": 4
 },
 "nbformat": 4,
 "nbformat_minor": 2,
 "cells": [
  {
   "source": [
    "# Peter Moss Acute Myeloid & Lymphoblastic Leukemia AI Research Project\n",
    "## Acute Lymphoblastic Leukemia Pytorch Segmentation 2021\n",
    "\n",
    "![Acute Lymphoblastic Leukemia Pytorch Segmentation 2021](assets/images/project-banner.jpg)"
   ],
   "cell_type": "markdown",
   "metadata": {}
  },
  {
   "source": [
    "# Table Of Contents\n",
    "\n",
    "- [Introduction](#introduction)\n",
    "- [DISCLAIMER](#disclaimer)\n",
    "- [Software](#software)\n",
    "    - [List Software](#list-software)\n",
    "    - [Import Software](#import-software)\n",
    "- [Data](#data)\n",
    "    - [Gather Data](#gather-data)\n",
    "    - [Data Pre-processing](#data-pre-processing)\n",
    "    - [Data Split](#data-split)\n",
    "        - [Training Set](#train-set)\n",
    "        - [Validation Set](#validation-set)\n",
    "        - [Test Set](#test-set)\n",
    "    - [Data Visualization](#data-visualization)\n",
    "- [Network](#network)\n",
    "    - [Choosen Network](#choosen-network)\n",
    "    - [Explain Network Choice](#explain-network-choice)\n",
    "    - [Build Network](#build-network)\n",
    "- [Model](#model)\n",
    "    - [Train Model](#train-model)\n",
    "    - [Evaluate Model](#evaluate=model)\n",
    "    - [Model Metrics](#model-metrics)\n",
    "        - [Accuracy](#accuracy)\n",
    "        - [Loss](#loss)\n",
    "        - [Precision](#precision)\n",
    "        - [Recall](#recall)\n",
    "        - [AUC](#auc)\n",
    "        - [True Positives](#true-positives)\n",
    "        - [False Positives](#false-positives)\n",
    "        - [True Negatives](#true-positives)\n",
    "        - [False Positives](#false-positives)\n",
    "        - [Misclassifcation](#misclassification)\n",
    "        - [Sensitivity](#sensitivity)\n",
    "        - [Specificity](#specificity)\n",
    "    - [Test Model](#test=model)\n",
    "- [Conclusion](#conclusion)\n",
    "- [Contributing](#contributing)\n",
    "  - [Contributors](#contributors)\n",
    "- [Versioning](#versioning)\n",
    "- [License](#license)\n",
    "- [Bugs/Issues](#bugs-issues)"
   ],
   "cell_type": "markdown",
   "metadata": {}
  },
  {
   "source": [
    "# Introduction\n",
    "\n",
    "The **Acute Lymphoblastic Leukemia Pytorch Segmentation 2021** is a Pytorch segmentation model which pinpoints exactly where the cancerous cells are within images of peripheral blood samples. This project is our first project using Pytorch, and also our first segmentation project.  \n",
    "\n",
    "**DEVELOPER TO EXPLAIN/UPDATE THE PROJECT**"
   ],
   "cell_type": "markdown",
   "metadata": {}
  },
  {
   "source": [
    "# DISCLAIMER\n",
    "\n",
    "This project should be used for research purposes only. The purpose of the project is to show the potential of Artificial Intelligence for medical support systems such as diagnostic systems.\n",
    "\n",
    "Although the model is accurate and shows good results both on paper and in real world testing, it is trained on a small amount of data and needs to be trained on larger datasets to really evaluate it's accuracy. This project is not meant to be an alternative to professional medical diagnosis.\n",
    "\n",
    "Developers that have contributed to this repository have experience in using Artificial Intelligence for detecting certain types of cancer. They are not doctors, medical or cancer experts.\n",
    "\n",
    "Please use this system responsibly."
   ],
   "cell_type": "markdown",
   "metadata": {}
  },
  {
   "source": [
    "# Software\n",
    "\n",
    "To use this project you will need to install the following software:\n",
    "\n",
    "## Software List  \n",
    "\n",
    "**DEVELOPER TO LIST/EXPLAIN SOFTWARE**\n",
    "\n",
    "## Import Modules\n",
    "\n",
    "**DEVELOPER TO IMPORT MODULES**"
   ],
   "cell_type": "markdown",
   "metadata": {}
  },
  {
   "cell_type": "code",
   "execution_count": null,
   "metadata": {},
   "outputs": [],
   "source": []
  },
  {
   "source": [
    "# Data\n",
    "\n",
    "## Gather Data  \n",
    "\n",
    "**DEVELOPER TO INTRODUCE CHOSEN DATA SET**"
   ],
   "cell_type": "markdown",
   "metadata": {}
  },
  {
   "source": [
    "## Data Preprocessing  \n",
    "\n",
    "**DEVELOPER TO IMPLEMENT DATA PRE-PROCESSING CODE**"
   ],
   "cell_type": "markdown",
   "metadata": {}
  },
  {
   "cell_type": "code",
   "execution_count": null,
   "metadata": {},
   "outputs": [],
   "source": []
  },
  {
   "source": [
    "## Data Split  \n",
    "\n",
    "**DEVELOPER TO EXPLAIN DATA SPLIT: Train/Evaluate/Test**"
   ],
   "cell_type": "markdown",
   "metadata": {}
  },
  {
   "source": [
    "## Data Visualization  \n",
    "\n",
    "**DEVELOPER TO IMPLEMENT DATA VISUALIZATION CODE**"
   ],
   "cell_type": "markdown",
   "metadata": {}
  },
  {
   "cell_type": "code",
   "execution_count": null,
   "metadata": {},
   "outputs": [],
   "source": []
  },
  {
   "source": [
    "# Network\n",
    "## Chosen Network  \n",
    "\n",
    "**DEVELOPER TO INTRODUCE CHOSEN NETWORK**\n",
    "\n",
    "## Network Choice Explained  \n",
    "\n",
    "**DEVELOPER TO EXPLAIN NETWORK CHOICE**\n",
    "## Build Network  \n",
    "\n",
    "**DEVELOPER TO IMPLEMENT NETWORK**"
   ],
   "cell_type": "markdown",
   "metadata": {}
  },
  {
   "cell_type": "code",
   "execution_count": null,
   "metadata": {},
   "outputs": [],
   "source": []
  },
  {
   "source": [
    "# Model\n",
    "## Train Model  \n",
    "\n",
    "**DEVELOPER TO IMPLEMENT TRAINING CODE**\n"
   ],
   "cell_type": "markdown",
   "metadata": {}
  },
  {
   "cell_type": "code",
   "execution_count": null,
   "metadata": {},
   "outputs": [],
   "source": []
  },
  {
   "source": [
    "## Evaluate Model  \n",
    "\n",
    "**DEVELOPER TO IMPLEMENT EVALUATION CODE**"
   ],
   "cell_type": "markdown",
   "metadata": {}
  },
  {
   "cell_type": "code",
   "execution_count": null,
   "metadata": {},
   "outputs": [],
   "source": []
  },
  {
   "source": [
    "## Model Metrics  \n",
    "\n",
    "**DEVELOPER TO PROVIDE EVALUATION METRICS WITH PLOTS**\n",
    "\n",
    "### Accuracy\n",
    "### Loss\n",
    "### Precision\n",
    "### Recall\n",
    "### AUC/ROC\n",
    "### True Positives\n",
    "### False Positives\n",
    "### True Negatives\n",
    "### False Negatives\n",
    "### Misclassifcation\n",
    "### Sensitivity\n",
    "### Specificity"
   ],
   "cell_type": "markdown",
   "metadata": {}
  },
  {
   "cell_type": "code",
   "execution_count": null,
   "metadata": {},
   "outputs": [],
   "source": []
  },
  {
   "source": [
    "# Conclusion  \n",
    "\n",
    "**DEVELOPER TO PROVIDE PROJECT CONCLUSION**\n"
   ],
   "cell_type": "markdown",
   "metadata": {}
  },
  {
   "source": [
    "# Contributing\n",
    "Asociación de Investigacion en Inteligencia Artificial Para la Leucemia Peter Moss encourages and welcomes code contributions, bug fixes and enhancements from the Github community.\n",
    "\n",
    "Please read the [CONTRIBUTING](https://github.com/AMLResearchProject/ALL-PyTorch-Segmentation-2021/blob/master/CONTRIBUTING.md \"CONTRIBUTING\") document for a full guide to forking our repositories and submitting your pull requests. You will also find information about our code of conduct on this page.\n",
    "\n",
    "## Contributors\n",
    "\n",
    "- [Nitin Mane](https://www.leukemiaairesearch.com/association/volunteers/nitin-mane \"Nitin Mane\") - [Asociación de Investigacion en Inteligencia Artificial Para la Leucemia Peter Moss](https://www.leukemiaresearchassociation.ai \"Asociación de Investigacion en Inteligencia Artificial Para la Leucemia Peter Moss\") AI Engineer, Aurangabad, India\n",
    "\n",
    "&nbsp;\n",
    "\n",
    "# Versioning\n",
    "We use SemVer for versioning.\n",
    "\n",
    "&nbsp;\n",
    "\n",
    "# License\n",
    "This project is licensed under the **MIT License** - see the [LICENSE](https://github.com/AMLResearchProject/ALL-PyTorch-Segmentation-2021/blob/master/LICENSE \"LICENSE\") file for details.\n",
    "\n",
    "&nbsp;\n",
    "\n",
    "# Bugs/Issues\n",
    "We use the [repo issues](https://github.com/AMLResearchProject/ALL-PyTorch-Segmentation-2021/issues \"repo issues\") to track bugs and general requests related to using this project. See [CONTRIBUTING](https://github.com/AMLResearchProject/ALL-PyTorch-Segmentation-2021/blob/master/CONTRIBUTING.md \"CONTRIBUTING\") for more info on how to submit bugs, feature requests and proposals."
   ],
   "cell_type": "markdown",
   "metadata": {}
  }
 ]
}